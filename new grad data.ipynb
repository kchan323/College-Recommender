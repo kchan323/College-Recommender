{
 "cells": [
  {
   "cell_type": "code",
   "execution_count": 18,
   "metadata": {},
   "outputs": [],
   "source": [
    "import pandas as pd\n",
    "import matplotlib.pyplot as plt\n",
    "import numpy as np\n",
    "from sklearn.model_selection import train_test_split\n",
    "from sklearn.metrics import accuracy_score, confusion_matrix, precision_score, recall_score\n",
    "from imblearn.over_sampling import SMOTE\n",
    "from sklearn.preprocessing import MinMaxScaler, LabelEncoder, RobustScaler\n",
    "import warnings\n",
    "warnings.filterwarnings('ignore')\n",
    "import seaborn as sns\n",
    "from keras import Sequential\n",
    "from keras.layers import Dense, Dropout\n",
    "from keras.utils import np_utils\n",
    "\n",
    "# load the dataset\n",
    "df = pd.read_csv('model_data.csv')\n",
    "\n",
    "y = df.univName                 # Name of the University is our target\n",
    "x = df.drop('univName',axis=1)  # Remove University name to get parameters\n",
    "\n",
    "# Label the University names to perform SMOTE\n",
    "encoder = LabelEncoder()\n",
    "encoder.fit(y)\n",
    "encoded_Y = encoder.transform(y)\n",
    "\n",
    "x1 = pd.get_dummies(x)\n",
    "\n",
    "# Perform over_sampling to balance the dataset\n",
    "smote = SMOTE(sampling_strategy='not majority')\n",
    "X1, Y1 = smote.fit_sample(x1,encoded_Y)\n",
    "\n",
    "# Scale the values\n",
    "sc = RobustScaler()       # Robust scaler takes care of outliers as well\n",
    "X = sc.fit_transform(X1)\n",
    "\n",
    "# One-hot encoding of the University Names\n",
    "Y = np_utils.to_categorical(Y1)\n",
    "\n",
    "# Make the train and test set\n",
    "X_train, X_test, Y_train, Y_test = train_test_split(X,Y,test_size=0.2,random_state=42,shuffle=True)\n"
   ]
  },
  {
   "cell_type": "code",
   "execution_count": null,
   "metadata": {},
   "outputs": [],
   "source": [
    "X_train.head()"
   ]
  },
  {
   "cell_type": "code",
   "execution_count": 3,
   "metadata": {},
   "outputs": [
    {
     "data": {
      "text/plain": [
       "array([[ 0.00000000e+00,  0.00000000e+00,  7.23419798e-01, ...,\n",
       "         1.14667683e+00,  8.02771176e-01, -4.85744752e+00],\n",
       "       [ 0.00000000e+00,  0.00000000e+00,  6.08351175e-01, ...,\n",
       "         4.08816275e-01,  6.22477348e-01,  1.17235382e+00],\n",
       "       [ 0.00000000e+00,  0.00000000e+00,  4.31184873e-01, ...,\n",
       "         8.24845667e-01, -6.71325121e-01,  5.69727711e-03],\n",
       "       ...,\n",
       "       [ 0.00000000e+00,  0.00000000e+00,  4.06867874e-01, ...,\n",
       "         9.03640886e-01,  3.17519809e-01,  6.78186125e-01],\n",
       "       [ 0.00000000e+00,  2.00000000e+01, -8.41507976e-01, ...,\n",
       "        -4.56169803e-01, -8.13586357e-01, -4.08289377e-01],\n",
       "       [ 0.00000000e+00,  0.00000000e+00, -1.32310196e+00, ...,\n",
       "        -1.21818657e+00,  4.56846937e-01, -1.48997562e-01]])"
      ]
     },
     "execution_count": 3,
     "metadata": {},
     "output_type": "execute_result"
    }
   ],
   "source": [
    "X_test"
   ]
  },
  {
   "cell_type": "code",
   "execution_count": 4,
   "metadata": {},
   "outputs": [
    {
     "name": "stdout",
     "output_type": "stream",
     "text": [
      "1075/1075 [==============================] - 1s 837us/step - loss: 0.7132 - accuracy: 0.7552\n",
      "Accuracy:  0.7551690936088562\n",
      "[ 5 10 12 ... 34  6 15]\n"
     ]
    },
    {
     "data": {
      "image/png": "[encoded data removed]",
      "text/plain": [
       "<Figure size 432x288 with 2 Axes>"
      ]
     },
     "metadata": {},
     "output_type": "display_data"
    }
   ],
   "source": [
    "################################ Make multi-class Classifier Model #####################################################\n",
    "\n",
    "classifier = Sequential()\n",
    "classifier.add(Dense(400, activation='relu', kernel_initializer='random_normal', input_dim=X_test.shape[1]))\n",
    "classifier.add(Dense(800, activation='relu', kernel_initializer='random_normal'))\n",
    "classifier.add(Dense(100, activation='relu', kernel_initializer='random_normal'))\n",
    "classifier.add(Dense(36, activation='softmax', kernel_initializer='random_normal'))\n",
    "classifier.compile(optimizer='adam', loss='categorical_crossentropy', metrics=['accuracy'])\n",
    "\n",
    "classifier.fit(X_train,Y_train,batch_size=20,epochs=200,verbose=0)\n",
    "eval_model = classifier.evaluate(X_train,Y_train)\n",
    "print(\"Accuracy: \",eval_model[1])     # accuracy = 0.7864\n",
    "\n",
    "# Get the predicted class for each test sample\n",
    "y_pred = classifier.predict_classes(X_test)\n",
    "print(y_pred)\n",
    "\n",
    "# Generate confusion matrix to see the performance of classifier in classifying correctly\n",
    "cm = confusion_matrix(Y_test.argmax(axis=1),y_pred)\n",
    "ax = plt.subplot()\n",
    "sns.heatmap(cm,annot=False,ax=ax);\n",
    "ax.set_xlabel('Predicted');\n",
    "ax.set_ylabel('Actual');\n",
    "ax.set_title('Confusion Matrix');\n",
    "plt.show()\n"
   ]
  },
  {
   "cell_type": "code",
   "execution_count": 6,
   "metadata": {},
   "outputs": [
    {
     "data": {
      "text/plain": [
       "['classifier_model.pkl']"
      ]
     },
     "execution_count": 6,
     "metadata": {},
     "output_type": "execute_result"
    }
   ],
   "source": [
    "import joblib\n",
    "joblib.dump(classifier, 'classifier_model.pkl')"
   ]
  },
  {
   "cell_type": "code",
   "execution_count": 10,
   "metadata": {},
   "outputs": [],
   "source": [
    "from sklearn.neighbors import KNeighborsClassifier\n",
    "classifier = KNeighborsClassifier(n_neighbors=5)\n",
    "classifier.fit(X_train, Y_train)\n",
    "y_pred = classifier.predict(X_test)"
   ]
  },
  {
   "cell_type": "code",
   "execution_count": 13,
   "metadata": {},
   "outputs": [
    {
     "name": "stdout",
     "output_type": "stream",
     "text": [
      "accuracy: 0.2389205536815168\n"
     ]
    }
   ],
   "source": [
    "print(\"accuracy: {}\".format(accuracy_score(Y_test, y_pred)))"
   ]
  },
  {
   "cell_type": "code",
   "execution_count": 22,
   "metadata": {},
   "outputs": [],
   "source": [
    "# #Import svm model\n",
    "# from sklearn import svm\n",
    "\n",
    "# #Create a svm Classifier\n",
    "# clf = svm.SVC(kernel='linear') # Linear Kernel\n",
    "\n",
    "# #Train the model using the training sets\n",
    "# clf.fit(X_train, Y_train)\n",
    "\n",
    "# #Predict the response for test dataset\n",
    "# y_pred = clf.predict(X_test)\n",
    "\n",
    "# # #Import scikit-learn metrics module for accuracy calculation\n",
    "# # from sklearn import metrics\n",
    "\n",
    "# # # Model Accuracy: how often is the classifier correct?\n",
    "# # print(\"Accuracy:\",metrics.accuracy_score(Y_test, Y_pred))"
   ]
  },
  {
   "cell_type": "code",
   "execution_count": null,
   "metadata": {},
   "outputs": [],
   "source": [
    "################################ Make multi-class Classifier Model #####################################################\n",
    "\n",
    "classifier = Sequential()\n",
    "classifier.add(Dense(200, activation='relu', kernel_initializer='random_normal', input_dim=X_test.shape[1]))\n",
    "classifier.add(Dense(600, activation='relu', kernel_initializer='random_normal'))\n",
    "# classifier.add(Dense(100, activation='relu', kernel_initializer='random_normal'))\n",
    "classifier.add(Dense(36, activation='softmax', kernel_initializer='random_normal'))\n",
    "classifier.compile(optimizer='adam', loss='categorical_crossentropy', metrics=['accuracy'])\n",
    "\n",
    "classifier.fit(X_train,Y_train,batch_size=20,epochs=200,verbose=0)\n",
    "eval_model = classifier.evaluate(X_train,Y_train)\n",
    "print(\"Accuracy: \",eval_model[1])     # accuracy = 0.7864\n",
    "\n",
    "# Get the predicted class for each test sample\n",
    "y_pred = classifier.predict_classes(X_test)\n",
    "print(y_pred)\n",
    "\n",
    "# Generate confusion matrix to see the performance of classifier in classifying correctly\n",
    "cm = confusion_matrix(Y_test.argmax(axis=1),y_pred)\n",
    "ax = plt.subplot()\n",
    "sns.heatmap(cm,annot=False,ax=ax);\n",
    "ax.set_xlabel('Predicted');\n",
    "ax.set_ylabel('Actual');\n",
    "ax.set_title('Confusion Matrix');\n",
    "plt.show()\n"
   ]
  }
 ],
 "metadata": {
  "kernelspec": {
   "display_name": "Python 3",
   "language": "python",
   "name": "python3"
  },
  "language_info": {
   "codemirror_mode": {
    "name": "ipython",
    "version": 3
   },
   "file_extension": ".py",
   "mimetype": "text/x-python",
   "name": "python",
   "nbconvert_exporter": "python",
   "pygments_lexer": "ipython3",
   "version": "3.7.6"
  }
 },
 "nbformat": 4,
 "nbformat_minor": 2
}
