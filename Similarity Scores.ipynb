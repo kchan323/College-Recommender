{
 "cells": [
  {
   "cell_type": "code",
   "execution_count": 2,
   "metadata": {},
   "outputs": [],
   "source": [
    "import numpy as np\n",
    "# https://docs.scipy.org/doc/scipy/reference/generated/scipy.spatial.distance.cosine.html\n",
    "from scipy.spatial.distance import cosine\n",
    "# https://docs.scipy.org/doc/scipy/reference/generated/scipy.spatial.distance.jaccard.html\n",
    "from scipy.spatial.distance import jaccard"
   ]
  },
  {
   "cell_type": "code",
   "execution_count": 3,
   "metadata": {},
   "outputs": [
    {
     "name": "stdout",
     "output_type": "stream",
     "text": [
      "cosine similarity: 0.9775252199076787\n",
      "jaccard similarity: 0.16666666666666663\n"
     ]
    }
   ],
   "source": [
    "input_cost = 0\n",
    "    # a) $5,000 - $15,000 --> 10,000\n",
    "    # b) $15,001 - $30,000 --> 22,500\n",
    "    # c) $30,001 - $45,000 --> 37,500\n",
    "    # d) $45,001 - $60,000 --> 52,500\n",
    "    # e) $60,001 - $75,000 --> 67,500\n",
    "input_puborpriv = 0\n",
    "    # a) no --> 0\n",
    "    # b) yes --> 1\n",
    "input_size = 0\n",
    "    # a) small --> 2,500\n",
    "    # b) medium --> 10,000\n",
    "    # c) large --> 20,000\n",
    "input_location = 0\n",
    "    # a) northeast --> 0\n",
    "    # b) midwest --> 1\n",
    "    # c) south --> 2\n",
    "    # d) west --> 3\n",
    "\n",
    "weights = [40, 30, 20, 10]\n",
    "\n",
    "# cosine similarity\n",
    "x1 = np.array([2, 3, 1, 0])\n",
    "y1 = np.array([2, 3, 0, 0])\n",
    "print('cosine similarity: ' + str(1 - cosine(x1, y1, weights)))\n",
    "\n",
    "# jaccard similarity\n",
    "x2 = np.array([0, 2, 1, 2])\n",
    "y2 = np.array([0, 1, 2, 2])\n",
    "print('jaccard similarity: ' + str(1 - jaccard(x2, y2, weights)))"
   ]
  },
  {
   "cell_type": "code",
   "execution_count": null,
   "metadata": {},
   "outputs": [],
   "source": []
  }
 ],
 "metadata": {
  "kernelspec": {
   "display_name": "Python 3",
   "language": "python",
   "name": "python3"
  },
  "language_info": {
   "codemirror_mode": {
    "name": "ipython",
    "version": 3
   },
   "file_extension": ".py",
   "mimetype": "text/x-python",
   "name": "python",
   "nbconvert_exporter": "python",
   "pygments_lexer": "ipython3",
   "version": "3.8.5"
  }
 },
 "nbformat": 4,
 "nbformat_minor": 4
}
