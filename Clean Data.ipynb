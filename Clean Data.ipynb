{
  "nbformat": 4,
  "nbformat_minor": 0,
  "metadata": {
    "colab": {
      "name": "CS 4701 College Recommender.ipynb",
      "provenance": [],
      "collapsed_sections": []
    },
    "kernelspec": {
      "name": "python3",
      "display_name": "Python 3"
    },
    "language_info": {
      "name": "python"
    }
  },
  "cells": [
    {
      "cell_type": "markdown",
      "metadata": {
        "id": "DD1gkrHEdE9Q"
      },
      "source": [
        "<h2>CS 4701 Project</h2>\n",
        "\n",
        "<h3>College Recommender</h3>\n",
        "\n",
        "Katelin Chan (ktc33) and Ein Chang (ec629)"
      ]
    },
    {
      "cell_type": "code",
      "metadata": {
        "id": "7qzFZfBcdJpf"
      },
      "source": [
        "import os\n",
        "import pandas as pd\n",
        "import numpy as np"
      ],
      "execution_count": null,
      "outputs": []
    },
    {
      "cell_type": "code",
      "metadata": {
        "id": "FK9zKv6cdL_1"
      },
      "source": [
        "# Convert CSV to dataframe for training and testing data.\n",
        "def get_dataframes_from_files(pathTr, pathTe, debugging=False):\n",
        "  dfTr = pd.read_csv(pathTr, sep=',', header=None, encoding='unicode_escape')\n",
        "  dfTe = pd.read_csv(pathTe, sep=',', header=None, encoding='unicode_escape')\n",
        "  if debugging:\n",
        "    print(\"DATAFRAMES FROM CSV\")\n",
        "    print(\"Training DataFrame:\")\n",
        "    print(dfTr)\n",
        "    print(\"Testing DataFrame:\")\n",
        "    print(dfTe)\n",
        "    print()\n",
        "  return dfTr, dfTe\n",
        "\n",
        "# Filter dataframes. Drop the rows where at least one element is missing.\n",
        "def filter_dataframes(dfTr, dfTe, debugging=False):\n",
        "  dfTr = dfTr.dropna()\n",
        "  dfTe = dfTe.dropna()\n",
        "  if debugging:\n",
        "    print(\"FILTER DATAFRAMES\")\n",
        "    print(\"Training DataFrame:\")\n",
        "    print(dfTr)\n",
        "    print(\"Testing DataFrame:\")\n",
        "    print(dfTe)\n",
        "    print(\"Shapes:\")\n",
        "    print(\"Training DataFrame shape: \" + str(dfTr.shape))\n",
        "    print(\"Testing DataFrame shape: \" + str(dfTe.shape))\n",
        "    print()\n",
        "  return dfTr, dfTe\n",
        "\n",
        "# Convert numerical values from string to float.\n",
        "def update_column_types(data):\n",
        "  # Loop through all data entries.\n",
        "  for row in range(len(data)):\n",
        "    for col in range(len(data[row])):\n",
        "      try:\n",
        "        # Update name where applicable.\n",
        "        if type(data[row][col]) == str:\n",
        "          data[row][col] = data[row][col].replace(\"&amp;\", \"and\")\n",
        "        # Update numerical data to float where applicable.\n",
        "        data[row][col] = float(data[row][col])\n",
        "      except ValueError:\n",
        "        # Keep data that cannot be converted to float.\n",
        "        pass\n",
        "  return data\n",
        "\n",
        "# Convert dataframes to numpy arrays.\n",
        "def get_data_from_dataframes(dfTr, dfTe, debugging=False):\n",
        "  # Convert dataframes to numpy, then convert types to float where needed.\n",
        "  dataTr = update_column_types(pd.DataFrame(dfTr).to_numpy()[1:] )\n",
        "  dataTe = update_column_types(pd.DataFrame(dfTe).to_numpy()[1:] )\n",
        "  if debugging:\n",
        "    print(\"INITIAL DATA\")\n",
        "    print(\"Training Data:\")\n",
        "    print(dataTr)\n",
        "    print(\"Testing Data:\")\n",
        "    print(dataTe)\n",
        "    print()\n",
        "  return dataTr, dataTe\n",
        "\n",
        "# Use helper functions from above to convert files directly to data lists.\n",
        "def get_standardized_data_from_files(pathTr, pathTe, debugging=False):\n",
        "  # Get dataframes from training and testing files.\n",
        "  dfTr, dfTe = get_dataframes_from_files(pathTr, pathTe, debugging)\n",
        "  # Update dataframes to remove missing values.\n",
        "  dfTr, dfTe = filter_dataframes(dfTr, dfTe, debugging)\n",
        "  # Get numpy array equivalent of data from dataframes.\n",
        "  dataTr, dataTe = get_data_from_dataframes(dfTr, dfTe, debugging)\n",
        "\n",
        "  return dataTr, dataTe"
      ],
      "execution_count": null,
      "outputs": []
    },
    {
      "cell_type": "code",
      "metadata": {
        "colab": {
          "base_uri": "https://localhost:8080/"
        },
        "id": "_nia4zpvqsXY",
        "outputId": "ed7889e2-0a8c-4239-a6a0-e62ecbafb237"
      },
      "source": [
        "# Toggle debugging to print out helpful information.\n",
        "debugging = True\n",
        "\n",
        "dataTr, dataTe = get_standardized_data_from_files(\"/content/ForbesAmericasTopColleges2019.csv\", \"/content/ForbesAmericasTopColleges2019.csv\", debugging)"
      ],
      "execution_count": null,
      "outputs": [
        {
          "output_type": "stream",
          "text": [
            "DATAFRAMES FROM CSV\n",
            "Training DataFrame:\n",
            "        0                                      1   ...         15                16\n",
            "0     Rank                                   Name  ...  ACT Upper           Website\n",
            "1      1.0                     Harvard University  ...       35.0   www.harvard.edu\n",
            "2      2.0                    Stanford University  ...       35.0  www.stanford.edu\n",
            "3      3.0                        Yale University  ...       35.0      www.yale.edu\n",
            "4      4.0  Massachusetts Institute of Technology  ...       35.0       web.mit.edu\n",
            "..     ...                                    ...  ...        ...               ...\n",
            "646  646.0            New Mexico State University  ...       23.0      www.nmsu.edu\n",
            "647  647.0               Indiana State University  ...       23.0  www.indstate.edu\n",
            "648  648.0              Emory &amp; Henry College  ...       25.0       www.ehc.edu\n",
            "649  649.0                          Wells College  ...        NaN     www.wells.edu\n",
            "650  650.0                        Catawba College  ...       23.0   www.catawba.edu\n",
            "\n",
            "[651 rows x 17 columns]\n",
            "Testing DataFrame:\n",
            "        0                                      1   ...         15                16\n",
            "0     Rank                                   Name  ...  ACT Upper           Website\n",
            "1      1.0                     Harvard University  ...       35.0   www.harvard.edu\n",
            "2      2.0                    Stanford University  ...       35.0  www.stanford.edu\n",
            "3      3.0                        Yale University  ...       35.0      www.yale.edu\n",
            "4      4.0  Massachusetts Institute of Technology  ...       35.0       web.mit.edu\n",
            "..     ...                                    ...  ...        ...               ...\n",
            "646  646.0            New Mexico State University  ...       23.0      www.nmsu.edu\n",
            "647  647.0               Indiana State University  ...       23.0  www.indstate.edu\n",
            "648  648.0              Emory &amp; Henry College  ...       25.0       www.ehc.edu\n",
            "649  649.0                          Wells College  ...        NaN     www.wells.edu\n",
            "650  650.0                        Catawba College  ...       23.0   www.catawba.edu\n",
            "\n",
            "[651 rows x 17 columns]\n",
            "\n",
            "FILTER DATAFRAMES\n",
            "Training DataFrame:\n",
            "        0   ...                         16\n",
            "0     Rank  ...                    Website\n",
            "1      1.0  ...            www.harvard.edu\n",
            "2      2.0  ...           www.stanford.edu\n",
            "3      3.0  ...               www.yale.edu\n",
            "4      4.0  ...                web.mit.edu\n",
            "..     ...  ...                        ...\n",
            "645  645.0  ...  https://www.morehouse.edu\n",
            "646  646.0  ...               www.nmsu.edu\n",
            "647  647.0  ...           www.indstate.edu\n",
            "648  648.0  ...                www.ehc.edu\n",
            "650  650.0  ...            www.catawba.edu\n",
            "\n",
            "[524 rows x 17 columns]\n",
            "Testing DataFrame:\n",
            "        0   ...                         16\n",
            "0     Rank  ...                    Website\n",
            "1      1.0  ...            www.harvard.edu\n",
            "2      2.0  ...           www.stanford.edu\n",
            "3      3.0  ...               www.yale.edu\n",
            "4      4.0  ...                web.mit.edu\n",
            "..     ...  ...                        ...\n",
            "645  645.0  ...  https://www.morehouse.edu\n",
            "646  646.0  ...               www.nmsu.edu\n",
            "647  647.0  ...           www.indstate.edu\n",
            "648  648.0  ...                www.ehc.edu\n",
            "650  650.0  ...            www.catawba.edu\n",
            "\n",
            "[524 rows x 17 columns]\n",
            "Shapes:\n",
            "Training DataFrame shape: (524, 17)\n",
            "Testing DataFrame shape: (524, 17)\n",
            "\n",
            "INITIAL DATA\n",
            "Training Data:\n",
            "[[1.0 'Harvard University' 'Cambridge' ... 32.0 35.0 'www.harvard.edu']\n",
            " [2.0 'Stanford University' 'Stanford' ... 32.0 35.0 'www.stanford.edu']\n",
            " [3.0 'Yale University' 'New Haven' ... 32.0 35.0 'www.yale.edu']\n",
            " ...\n",
            " [647.0 'Indiana State University' 'Terre Haute' ... 17.0 23.0\n",
            "  'www.indstate.edu']\n",
            " [648.0 'Emory and Henry College' 'Emory' ... 19.0 25.0 'www.ehc.edu']\n",
            " [650.0 'Catawba College' 'Salisbury' ... 18.0 23.0 'www.catawba.edu']]\n",
            "Testing Data:\n",
            "[[1.0 'Harvard University' 'Cambridge' ... 32.0 35.0 'www.harvard.edu']\n",
            " [2.0 'Stanford University' 'Stanford' ... 32.0 35.0 'www.stanford.edu']\n",
            " [3.0 'Yale University' 'New Haven' ... 32.0 35.0 'www.yale.edu']\n",
            " ...\n",
            " [647.0 'Indiana State University' 'Terre Haute' ... 17.0 23.0\n",
            "  'www.indstate.edu']\n",
            " [648.0 'Emory and Henry College' 'Emory' ... 19.0 25.0 'www.ehc.edu']\n",
            " [650.0 'Catawba College' 'Salisbury' ... 18.0 23.0 'www.catawba.edu']]\n",
            "\n"
          ],
          "name": "stdout"
        }
      ]
    },
    {
      "cell_type": "code",
      "metadata": {
        "id": "TShDBNFWvQGR"
      },
      "source": [
        "# pd.DataFrame(dataTe).to_csv(\"dataTr.csv\")\n",
        "pd.DataFrame(dataTe).to_csv(\"dataTe.csv\")"
      ],
      "execution_count": null,
      "outputs": []
    }
  ]
}